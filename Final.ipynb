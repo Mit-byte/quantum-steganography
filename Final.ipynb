{
 "cells": [
  {
   "cell_type": "markdown",
   "metadata": {},
   "source": [
    "# <center>Quantum Steganography</center>"
   ]
  },
  {
   "cell_type": "markdown",
   "metadata": {},
   "source": [
    "# 1. Introduction to Quantum Key Distribution\n",
    "\n",
    "<b>\"Key distribution\"</b> is a type of secure communication protocol which is accomplished with the use of a <b>\"key\"</b> (which is just a bitstring with a sequence of 0s and 1s) that is uniquely known only by the sender (let's call them \"Alice\") and receiver (let's call them \"Bob\"), and enables them to encrypt and decrypt a sent message. If a key can be securely distributed between Alice and Bob, the encrypted message can be securely sent over a public channel. Without this key, it is difficult to sucessfully decrypt this message by an eavesdropper. Thus, a secure communication relies on the ability of Alice to encrypt the message in a way that only Bob can decrypt it. \n",
    "\n",
    "<b>\"Quantum key distribution\"</b> or <b>\"QKD\"</b> is unique compared to classical key distribution schemes because it makes use of an important aspect of quantum mechanics where any measurement performed on a quantum system (by any third party, in this case an eavesdropper) disturbs it, thus detecting eavesdropping attempts and securing the message.\n",
    "\n",
    "We will be using <b>Qiskit</b> code to implement <b>BB84 protocol</b> which is a very popular quantum key distribution scheme.\n"
   ]
  },
  {
   "cell_type": "markdown",
   "metadata": {},
   "source": [
    "## 1.1 QKD Layout \n",
    "\n",
    "Implementation of the BB84 protocol by following these steps:\n",
    "<br>\n",
    ">1.<b> SELECT ENCODING</b>: Alice randomly selects a basis ( × or + ) to encode each bit.<br>\n",
    "    2.<b> SELECT MEASUREMENT</b>: Bob randomly selects a basis ( × or + ) to measure each bit.<br>\n",
    "    3.<b> ENCODING</b>: Alice creates the quantum states encoded in the selected bases.<br>\n",
    "    4.<b> SENDING</b>: Alice sends Bob the encoded states via the quantum channel.<br>\n",
    "    5.<b> MEASUREMENT</b>: Bob measures the quantum states in his pre-selected measurement bases.<br>\n",
    "    6.<b> SEND BASES</b>: Alice send which basis were used to encode each bit via the classical channel.<br>\n",
    "    7.<b> FIND SYMMETRIC KEY</b>: Alice and Bob discard bits in their key that used a different encoding and decoding basis.<br>\n",
    " \n",
    "These steps allow a secure key distribution between Alice and Bob, where the two will be able to send secure and encrypted messages to each other."
   ]
  },
  {
   "cell_type": "markdown",
   "metadata": {},
   "source": [
    "## 1.2 Imports and Installation\n"
   ]
  },
  {
   "cell_type": "code",
   "execution_count": null,
   "metadata": {},
   "outputs": [],
   "source": [
    "!pip install qiskit==0.20.0\n",
    "from IPython.display import clear_output\n",
    "clear_output()"
   ]
  },
  {
   "cell_type": "code",
   "execution_count": 1,
   "metadata": {},
   "outputs": [],
   "source": [
    "from random import getrandbits, choice\n",
    "from qiskit import QuantumCircuit, Aer, execute"
   ]
  },
  {
   "cell_type": "markdown",
   "metadata": {},
   "source": [
    "## 1.3 Protocol Requirements\n",
    "\n",
    "Wwe will use a key length of 500.\n",
    "\n",
    "In a real implemenetation of BB84, physical photons are sent through an optical fibre to Bob in step 4 of the QKD layout. Instead, we will be using <b>Quantum_Channel</b> as our optical fibre, which is simply a python list here.\n",
    "\n",
    "Similarly, a classical channel is required, which is a wire that sends electrical signals. <b>Classical_Channel</b> is another list which we will be using here as a replacement."
   ]
  },
  {
   "cell_type": "code",
   "execution_count": 2,
   "metadata": {},
   "outputs": [],
   "source": [
    "key_length = 500\n",
    "QUANTUM_CHANNEL = []\n",
    "CLASSICAL_CHANNEL = []"
   ]
  },
  {
   "cell_type": "markdown",
   "metadata": {},
   "source": [
    "# 2. Following the QKD steps"
   ]
  },
  {
   "cell_type": "markdown",
   "metadata": {},
   "source": [
    "## 2.1 Step 1: Select Encoding\n",
    "\n",
    "Alice randomly selects a bit key and a basis to encode each bit with the key.\n",
    "\n",
    "The function given takes an argument as the number of bases that Alice needs to randomly select, and returns a bitstring of each selected encoding represented by either 0 or 1."
   ]
  },
  {
   "cell_type": "code",
   "execution_count": 3,
   "metadata": {},
   "outputs": [],
   "source": [
    "def select_encoding(length):\n",
    "    \n",
    "    #This stores the states Alice will encode\n",
    "    alice_bitstring = \"\"\n",
    "    # This stores the bases that Alice will prepare the states in\n",
    "    alice_bases = \"\"\n",
    "    \n",
    "    # For the length \n",
    "    for i in range(length):\n",
    "        # We use the function getrandbits to get either a 0 or 1 randomly,\n",
    "        # The \"1\" in the function argument is the number of bits to be generated\n",
    "        alice_bitstring += (str(getrandbits(1)))\n",
    "        # 0 means encode in the (0,1) basis and 1 means encode in the (+,-) basis\n",
    "        alice_bases += (str(getrandbits(1)))\n",
    "    \n",
    "    # return the string of bits and the list of bases they should be encoded in\n",
    "    return alice_bitstring, alice_bases"
   ]
  },
  {
   "cell_type": "markdown",
   "metadata": {},
   "source": [
    "Next we create the functions **alice_bitstring** and **alice_bases**. We can look at the first 10 elements of each, which should be in 0s and 1s."
   ]
  },
  {
   "cell_type": "code",
   "execution_count": 4,
   "metadata": {},
   "outputs": [
    {
     "name": "stdout",
     "output_type": "stream",
     "text": [
      "alice_bitstring:  1111011010\n",
      "alice_bases:  1100111010\n"
     ]
    }
   ],
   "source": [
    "alice_bitstring, alice_bases = select_encoding(key_length)\n",
    "\n",
    "# Preview the first 10 elements of each:\n",
    "print(\"alice_bitstring: \", alice_bitstring[:10])\n",
    "print(\"alice_bases: \", alice_bases[:10])"
   ]
  },
  {
   "cell_type": "markdown",
   "metadata": {},
   "source": [
    "## 2.2 Step 2: Select Measurement\n",
    "\n",
    "Bob randomly selects a basis for measuring each bit. The below given function takes an argument as the number of bases that Bob needs to randomly select, and returns a bitstring of each chosen measurement basis represented by either 0 or 1."
   ]
  },
  {
   "cell_type": "code",
   "execution_count": 5,
   "metadata": {},
   "outputs": [],
   "source": [
    "def select_measurement(length):\n",
    "    # Similar to before we store the bases that Bob will measure in a list\n",
    "    bob_bases = \"\"\n",
    "    \n",
    "    for i in range(length):\n",
    "        # Again we use getrandbits to generate a 0 or 1 randomly\n",
    "        bob_bases += (str(getrandbits(1)))\n",
    "        \n",
    "    # return the list of random bases to measure in\n",
    "    return bob_bases"
   ]
  },
  {
   "cell_type": "code",
   "execution_count": 6,
   "metadata": {},
   "outputs": [
    {
     "name": "stdout",
     "output_type": "stream",
     "text": [
      "selected_measurements:  1011000100\n"
     ]
    }
   ],
   "source": [
    "bob_bases = select_measurement(key_length)\n",
    "\n",
    "# Preview the first 10 elements of each:\n",
    "print(\"selected_measurements: \", bob_bases[:10])"
   ]
  },
  {
   "cell_type": "markdown",
   "metadata": {},
   "source": [
    "## 2.3 Step 3: Encoding\n",
    "\n",
    "After this, we will use functions **alice_bitstring** and **alice_bases** to generate the quantum states for Alice. We will use <b>QuantumCircuit</b> object to define our circuit and write the code to encode our bits, as demonstrated in the following <br>\n",
    "\n",
    "| Bit in Alice's `alice_bitstring` | Corresponding bit in `alice_bases` | Encoding basis | Qubit state sent |\n",
    "|:----------------:|:--------------------------:|:--------------------------:|:---------------:|\n",
    "| 0 | 0 | $$|0\\rangle,|1\\rangle$$ |$$|0\\rangle$$ |\n",
    "| 0 | 1 | $$|+\\rangle,|-\\rangle$$ |$$|+\\rangle$$ |\n",
    "| 1 | 0 | $$|0\\rangle,|1\\rangle$$ |$$|1\\rangle$$ |\n",
    "| 1 | 1 | $$|+\\rangle,|-\\rangle$$ |$$|-\\rangle$$ |"
   ]
  },
  {
   "cell_type": "code",
   "execution_count": 7,
   "metadata": {},
   "outputs": [],
   "source": [
    "def encode(alice_bitstring, alice_bases):\n",
    "    encoded_qubits = []\n",
    "    for i in range(len(alice_bitstring)):\n",
    "        # create a brand new quantum circuit called qc. Remember that the qubit will be in state |0> by default\n",
    "        qc = QuantumCircuit(1,1)\n",
    "\n",
    "        if alice_bases[i] == \"0\":\n",
    "            # 0 Means we are encoding in the z basis\n",
    "            if alice_bitstring[i] == \"0\":\n",
    "                # We want to encode a |0> state, as states are intialized\n",
    "                # in |0> by default we don't need to add anything here\n",
    "                pass\n",
    "            \n",
    "            elif alice_bitstring[i] == \"1\":\n",
    "                # We want to encode a |1> state\n",
    "                # We apply an X gate to generate |1>\n",
    "                qc.x(0)\n",
    "                \n",
    "        elif alice_bases[i] == \"1\":\n",
    "            # 1 Means we are encoding in the x basis\n",
    "            if alice_bitstring[i] == \"0\":\n",
    "                # We apply an H gate to generate |+>\n",
    "                qc.h(0)\n",
    "            elif alice_bitstring[i] == \"1\":\n",
    "                # We apply an X and an H gate to generate |->\n",
    "                qc.x(0)\n",
    "                qc.h(0)\n",
    "            \n",
    "        # add this quantum circuit to the list of encoded_qubits\n",
    "        encoded_qubits.append(qc)\n",
    "        \n",
    "    return encoded_qubits"
   ]
  },
  {
   "cell_type": "code",
   "execution_count": 8,
   "metadata": {},
   "outputs": [],
   "source": [
    "encoded_qubits = encode(alice_bitstring, alice_bases)"
   ]
  },
  {
   "cell_type": "markdown",
   "metadata": {},
   "source": [
    "## 2.4 Step 4: Sending\n",
    "\n",
    "Next, Alice sends the qubits_encoded to Bob via the **Quantum_Channel** function."
   ]
  },
  {
   "cell_type": "code",
   "execution_count": 9,
   "metadata": {},
   "outputs": [],
   "source": [
    "QUANTUM_CHANNEL = encoded_qubits"
   ]
  },
  {
   "cell_type": "markdown",
   "metadata": {},
   "source": [
    "## 2.5 Step 5: Measurement\n",
    "\n",
    "Now that Bob has received the qubits via **Quantum_Channel**, he measures the qubits on the measurement basis from step 2."
   ]
  },
  {
   "cell_type": "code",
   "execution_count": 10,
   "metadata": {},
   "outputs": [],
   "source": [
    "def measure(bob_bases, encoded_qubits, backend):\n",
    "    # Perform measurement on the qubits send by Alice\n",
    "    # selected_measurements: \n",
    "    # encoded_qubits: list of QuantumCircuits received from Alice\n",
    "    # backend: IBMQ backend, either simulation or hardware\n",
    "    \n",
    "    # Stores the results of Bob's measurements\n",
    "    bob_bitstring = ''\n",
    "    \n",
    "    for i in range(len(encoded_qubits)):\n",
    "        qc = encoded_qubits[i]\n",
    "        \n",
    "        if bob_bases[i] == \"0\":\n",
    "            # 0 means we want to measure in Z basis\n",
    "            qc.measure(0,0)\n",
    "\n",
    "        elif bob_bases[i] == \"1\":\n",
    "            # 1 means we want to measure in X basis\n",
    "            qc.h(0)\n",
    "            qc.measure(0,0)\n",
    "        \n",
    "        # Now that the measurements have been added to the circuit, let's run them.\n",
    "        job = execute(qc, backend=backend, shots = 1) # increase shots if running on hardware\n",
    "        results = job.result()\n",
    "        counts = results.get_counts()\n",
    "        measured_bit = max(counts, key=counts.get)\n",
    "\n",
    "        # Append measured bit to Bob's measured bitstring\n",
    "        bob_bitstring += measured_bit \n",
    "        \n",
    "    return bob_bitstring"
   ]
  },
  {
   "cell_type": "markdown",
   "metadata": {},
   "source": [
    "Measure the qubits that Bob received on the **qasm_simulator** backend. "
   ]
  },
  {
   "cell_type": "code",
   "execution_count": 11,
   "metadata": {},
   "outputs": [],
   "source": [
    "sim_backend = Aer.get_backend('qasm_simulator')\n",
    "\n",
    "bob_bitstring = measure(bob_bases, QUANTUM_CHANNEL, sim_backend)"
   ]
  },
  {
   "cell_type": "markdown",
   "metadata": {},
   "source": [
    "## 2.6 Step 6: Send Bases to Bob\n",
    "\n",
    "Alice shares the bases that were used to encode each bit via a classical channel."
   ]
  },
  {
   "cell_type": "code",
   "execution_count": 12,
   "metadata": {},
   "outputs": [],
   "source": [
    "CLASSICAL_CHANNEL = alice_bases"
   ]
  },
  {
   "cell_type": "code",
   "execution_count": 13,
   "metadata": {},
   "outputs": [],
   "source": [
    "def bob_compare_bases(alices_bases, bobs_bases):\n",
    "    indices = []\n",
    "    \n",
    "    for i in range(len(alices_bases)):\n",
    "        if alices_bases[i] == bobs_bases[i]:\n",
    "            indices.append(i)\n",
    "    return indices"
   ]
  },
  {
   "cell_type": "code",
   "execution_count": 14,
   "metadata": {},
   "outputs": [],
   "source": [
    "agreeing_bases = bob_compare_bases(CLASSICAL_CHANNEL, bob_bases)"
   ]
  },
  {
   "cell_type": "code",
   "execution_count": 15,
   "metadata": {},
   "outputs": [],
   "source": [
    "CLASSICAL_CHANNEL = agreeing_bases"
   ]
  },
  {
   "cell_type": "markdown",
   "metadata": {},
   "source": [
    "## 2.7 Step 7: Find Symmetric Key\n",
    "\n",
    "Alice and Bob can now discard the bits in their key that used a different encoding and decoding basis."
   ]
  },
  {
   "cell_type": "code",
   "execution_count": 16,
   "metadata": {},
   "outputs": [],
   "source": [
    "def key_from_indices(bitstring, indices):\n",
    "    key = ''\n",
    "    for idx in indices:\n",
    "        # For the indices where bases match, the bitstring bit is added to the key\n",
    "        key = key + bitstring[idx] \n",
    "    return key"
   ]
  },
  {
   "cell_type": "code",
   "execution_count": 17,
   "metadata": {},
   "outputs": [
    {
     "name": "stdout",
     "output_type": "stream",
     "text": [
      "alice_key:  10111100001001111110\n",
      "bob_key:  10111100001001111110\n",
      "Alice's key is equal to Bob's key:  True\n"
     ]
    }
   ],
   "source": [
    "alice_key = key_from_indices(alice_bitstring, CLASSICAL_CHANNEL)\n",
    "bob_key = key_from_indices(bob_bitstring, agreeing_bases)\n",
    "\n",
    "print(\"alice_key: \", alice_key[:20])\n",
    "print(\"bob_key: \", bob_key[:20])\n",
    "print(\"Alice's key is equal to Bob's key: \", alice_key == bob_key)"
   ]
  },
  {
   "cell_type": "markdown",
   "metadata": {},
   "source": [
    "Finally after Alice and Bob discard every bit that was encoded using a basis that they didn't agree on, they will have a shared key at the end."
   ]
  },
  {
   "cell_type": "code",
   "execution_count": 18,
   "metadata": {},
   "outputs": [
    {
     "data": {
      "text/plain": [
       "'1011110000100111111011101101000101010101010000000000010100010111100100101101011111001000110111001010111110010010011001111011110000111100000010001101011010000000100110001110000101000110011100000011010100111001010001111110111100000101000'"
      ]
     },
     "execution_count": 18,
     "metadata": {},
     "output_type": "execute_result"
    }
   ],
   "source": [
    "BB84_key = alice_key\n",
    "BB84_key"
   ]
  },
  {
   "cell_type": "markdown",
   "metadata": {},
   "source": [
    "# Using the shared key to communicate"
   ]
  },
  {
   "cell_type": "code",
   "execution_count": 19,
   "metadata": {},
   "outputs": [],
   "source": [
    "import binascii\n",
    "\n",
    "def encrypt_message(unencrypted_string, key):\n",
    "    # Convert ascii string to binary string\n",
    "    bits = bin(int(binascii.hexlify(unencrypted_string.encode('utf-8', 'surrogatepass')), 16))[2:]\n",
    "    bitstring = bits.zfill(8 * ((len(bits) + 7) // 8))\n",
    "    # created the encrypted string using the key\n",
    "    encrypted_string = \"\"\n",
    "    for i in range(len(bitstring)):\n",
    "        encrypted_string += str( (int(bitstring[i])^ int(key[i])) )\n",
    "    return encrypted_string\n",
    "    \n",
    "def decrypt_message(encrypted_bits, key):\n",
    "    # created the unencrypted string using the key\n",
    "    unencrypted_bits = \"\"\n",
    "    for i in range(len(encrypted_bits)):\n",
    "        unencrypted_bits += str( (int(encrypted_bits[i])^ int(key[i])) )\n",
    "    # Convert bitstring into\n",
    "    i = int(unencrypted_bits, 2)\n",
    "    hex_string = '%x' % i\n",
    "    n = len(hex_string)\n",
    "    bits = binascii.unhexlify(hex_string.zfill(n + (n & 1)))\n",
    "    unencrypted_string = bits.decode('utf-8', 'surrogatepass')\n",
    "    return unencrypted_string"
   ]
  },
  {
   "cell_type": "code",
   "execution_count": 20,
   "metadata": {},
   "outputs": [
    {
     "name": "stdout",
     "output_type": "stream",
     "text": [
      "Original Messge: Quantum Steganography!\n",
      "Encrypted message: 11101101010100101000111110111111001000010011010101101000001101111100000110100011101011011011101111001110111111000000100011011011010011100110100110100110111010001110000111000000\n",
      "Decrypted message: Quantum Steganography!\n"
     ]
    }
   ],
   "source": [
    "message = \"Quantum Steganography!\"\n",
    "print(\"Original Messge:\", message)\n",
    "encrypted_message = encrypt_message(message, alice_key)\n",
    "print(\"Encrypted message:\", encrypted_message)\n",
    "decrypted_message = decrypt_message(encrypted_message, bob_key)\n",
    "print(\"Decrypted message:\", decrypted_message)"
   ]
  },
  {
   "cell_type": "markdown",
   "metadata": {},
   "source": [
    "# Embedding the secret message in cover message"
   ]
  },
  {
   "cell_type": "code",
   "execution_count": 21,
   "metadata": {},
   "outputs": [],
   "source": [
    "def encrypt_cover_msg(encrypted_message, carrier_msg):\n",
    "    cm = ''\n",
    "    for i in range(len(encrypted_message)):\n",
    "        if encrypted_message[i] == '1':\n",
    "            cm += carrier_msg[i].upper()\n",
    "        else:\n",
    "            cm += carrier_msg[i]\n",
    "    return cm\n",
    "def decrypt_cover_msg(carrier_msg):\n",
    "    letters = '' \n",
    "    for i in range(len(carrier_msg)):\n",
    "        if carrier_msg[i].isupper():\n",
    "            letters+='1'\n",
    "        else:\n",
    "            letters+='0'\n",
    "    return letters"
   ]
  },
  {
   "cell_type": "code",
   "execution_count": 22,
   "metadata": {},
   "outputs": [
    {
     "name": "stdout",
     "output_type": "stream",
     "text": [
      "Original Messge: Quantum Steganography! \n",
      "\n",
      "Cover message: NWYrNDhAfFgLdsJiMrbeXTAMSlJRLTMQbbSoolhNizWLjYbFvCIuFzolieCIhVSZOMcpzywGDcJsjeLFJvYoDIdEZiDIRtRPWVkfVUHyMNLTVZqpyqklZtidHFbIQkRNxFkaCJLziMJsLrxPFaZmcMUfWWZvGhncWNJrbwmRFMaqunwo \n",
      "\n",
      "Decrypted message: Quantum Steganography!\n"
     ]
    }
   ],
   "source": [
    "message = \"Quantum Steganography!\"\n",
    "print(\"Original Messge:\", message,'\\n')\n",
    "encrypted_message = encrypt_message(message, alice_key)\n",
    "carrier_msg=''.join([choice(\"abcdefghijklmnopqrstuvwxyz\") for _ in range(len(encrypted_message))])\n",
    "carrier_msg = encrypt_cover_msg(encrypted_message, carrier_msg)\n",
    "print(\"Cover message:\", carrier_msg,'\\n')\n",
    "decrypt_msg = decrypt_cover_msg(carrier_msg)\n",
    "decrypted_message = decrypt_message(decrypt_msg, bob_key)\n",
    "print(\"Decrypted message:\", decrypted_message)"
   ]
  },
  {
   "cell_type": "markdown",
   "metadata": {},
   "source": [
    "# Generating new key to communicate"
   ]
  },
  {
   "cell_type": "code",
   "execution_count": 29,
   "metadata": {},
   "outputs": [
    {
     "name": "stdout",
     "output_type": "stream",
     "text": [
      "alice_key:  11001010010101000111\n",
      "bob_key:  11001010010101000111\n",
      "Alice's key is equal to Bob's key:  True\n"
     ]
    }
   ],
   "source": [
    "# Step 1\n",
    "alice_bitstring, alice_bases = select_encoding(key_length)\n",
    "# Step 2\n",
    "bob_bases = select_measurement(key_length)\n",
    "# Step 3\n",
    "encoded_qubits = encode(alice_bitstring, alice_bases)\n",
    "# Step 4\n",
    "QUANTUM_CHANNEL = encoded_qubits\n",
    "# Step 5\n",
    "bob_bitstring = measure(bob_bases, QUANTUM_CHANNEL, Aer.get_backend('qasm_simulator'))\n",
    "# Step 6\n",
    "CLASSICAL_CHANNEL = alice_bases\n",
    "agreeing_bases = bob_compare_bases(CLASSICAL_CHANNEL, bob_bases)\n",
    "# Step 7\n",
    "CLASSICAL_CHANNEL = agreeing_bases\n",
    "alice_key = key_from_indices(alice_bitstring, agreeing_bases)\n",
    "bob_key = key_from_indices(bob_bitstring, agreeing_bases)\n",
    "\n",
    "print(\"alice_key: \", alice_key[:20])\n",
    "print(\"bob_key: \", bob_key[:20])\n",
    "print(\"Alice's key is equal to Bob's key: \", alice_key == bob_key)"
   ]
  },
  {
   "cell_type": "code",
   "execution_count": 30,
   "metadata": {},
   "outputs": [
    {
     "name": "stdout",
     "output_type": "stream",
     "text": [
      "Original Messge: Quantum Steganography! \n",
      "\n",
      "Cover message: RyxHXrSMqxOewesMskoECnnVgxftFBJjVmMcedKvyvgBojKXwzMFHhEnFzqCiNWjDXIclSnXAvRikhTPOzSTnGNwehMPYuEvJnMbnLCSkwONVmrtvvAydvcHftZWoqASfTdkZdefUnNaKWOpzdZxUftEdPNIHSFZXjdmSMVTQkdlwryb \n",
      "\n",
      "Decrypted message: Quantum Steganography!\n"
     ]
    }
   ],
   "source": [
    "message = \"Quantum Steganography!\"\n",
    "print(\"Original Messge:\", message,'\\n')\n",
    "encrypted_message = encrypt_message(message, alice_key)\n",
    "carrier_msg=''.join([choice(\"abcdefghijklmnopqrstuvwxyz\") for _ in range(len(encrypted_message))])\n",
    "carrier_msg = encrypt_cover_msg(encrypted_message, carrier_msg)\n",
    "print(\"Cover message:\", carrier_msg,'\\n')\n",
    "decrypt_msg = decrypt_cover_msg(carrier_msg)\n",
    "decrypted_message = decrypt_message(decrypt_msg, bob_key)\n",
    "print(\"Decrypted message:\", decrypted_message)"
   ]
  },
  {
   "cell_type": "code",
   "execution_count": 31,
   "metadata": {},
   "outputs": [
    {
     "name": "stdout",
     "output_type": "stream",
     "text": [
      "Original Messge: Hi! I am Mitesh. \n",
      "\n",
      "Cover message: EudunzFyjoLQQKrLdTzERnsGqCpemcviKmfGNKGRuRnejSDjwbWKeKBwCFmNOeYJSdoNrXBsOnfONdHrHnUROaTtthNzNeyXSbNcxhMCzjDhsWnFcjNziUWrqWWNDsBk \n",
      "\n",
      "Decrypted message: Hi! I am Mitesh.\n"
     ]
    }
   ],
   "source": [
    "message = \"Hi! I am Mitesh.\"\n",
    "print(\"Original Messge:\", message,'\\n')\n",
    "encrypted_message = encrypt_message(message, alice_key)\n",
    "carrier_msg=''.join([choice(\"abcdefghijklmnopqrstuvwxyz\") for _ in range(len(encrypted_message))])\n",
    "carrier_msg = encrypt_cover_msg(encrypted_message, carrier_msg)\n",
    "print(\"Cover message:\", carrier_msg,'\\n')\n",
    "decrypt_msg = decrypt_cover_msg(carrier_msg)\n",
    "decrypted_message = decrypt_message(decrypt_msg, bob_key)\n",
    "print(\"Decrypted message:\", decrypted_message)"
   ]
  },
  {
   "cell_type": "code",
   "execution_count": null,
   "metadata": {},
   "outputs": [],
   "source": []
  }
 ],
 "metadata": {
  "kernelspec": {
   "display_name": "Python 3",
   "language": "python",
   "name": "python3"
  },
  "language_info": {
   "codemirror_mode": {
    "name": "ipython",
    "version": 3
   },
   "file_extension": ".py",
   "mimetype": "text/x-python",
   "name": "python",
   "nbconvert_exporter": "python",
   "pygments_lexer": "ipython3",
   "version": "3.8.2"
  }
 },
 "nbformat": 4,
 "nbformat_minor": 4
}
